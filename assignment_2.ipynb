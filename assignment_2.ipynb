{
 "cells": [
  {
   "cell_type": "markdown",
   "id": "d0f15460-d97f-45ce-8f73-117582ac6fa5",
   "metadata": {},
   "source": [
    "Program 1 -- Total Passed And Failed Candidates "
   ]
  },
  {
   "cell_type": "code",
   "execution_count": 3,
   "id": "bef66321-9e22-4467-93a5-6041abd4b5d9",
   "metadata": {},
   "outputs": [
    {
     "name": "stdout",
     "output_type": "stream",
     "text": [
      "Total number of candidates passed are 9\n",
      "Total number of candidates failed are 2\n"
     ]
    }
   ],
   "source": [
    "marks =  (25,67,98,54,78,99,53,21,97,82,76)\n",
    "passing_marks = 30 #passing marks condition\n",
    "students_passed = 0\n",
    "students_failed = 0\n",
    "for i in marks: #for to get into each value of tuple we have to use for loop to enter into each value\n",
    "    if i>= passing_marks:\n",
    "        students_passed = students_passed + 1 #on every condition true passing students got increased by 1\n",
    "        \n",
    "    elif i<passing_marks:\n",
    "        students_failed = students_failed + 1\n",
    "       \n",
    "print(\"Total number of candidates passed are {}\".format(students_passed))\n",
    "print(\"Total number of candidates failed are {}\".format(students_failed))    "
   ]
  },
  {
   "cell_type": "markdown",
   "id": "94b8d75d-d405-4c2d-b54d-d34bf33990c2",
   "metadata": {},
   "source": [
    "Program 2 -- Total Purchase amount with make adjustment in values of tuple"
   ]
  },
  {
   "cell_type": "code",
   "execution_count": 35,
   "id": "1153ef1f-b163-4270-a294-32f3f41ff7c9",
   "metadata": {},
   "outputs": [
    {
     "name": "stdout",
     "output_type": "stream",
     "text": [
      "(3.5, 3, 4, 6, 3.5, 7, 8, 3.5, 10, 5, 3.5, 8, 10)\n",
      "Corrected Total After Adjusting 2 to 3.5 is 75.0\n"
     ]
    }
   ],
   "source": [
    "Purchase = (2,3,4,6,2,7,8,2,10,5,2,8,10)\n",
    "# we have to first make change in value 2 to 3.5 in tuple wherever it apperas\n",
    "#first loop is for converting the value of 2 to 3.5\n",
    "for i in Purchase:\n",
    "    if i == 2:\n",
    "        Purchase = list(Purchase) #as tuples are not changeable so we first convert the tuple into list\n",
    "        \n",
    "        index_number = Purchase.index(i) #second--- we have to find the index number for every 2 appearing in our list\n",
    "        Purchase[index_number] = str(Purchase[index_number]) # third---- we convert the data type of only 2 into string for better replacement\n",
    "        #fourth--- we use string method replace to make a change every time it loops and make a change for 2 to 3.5\n",
    "        Purchase[index_number]= Purchase[index_number].replace(\"2\",\"3.5\")\n",
    "        #fifth-- then again back to original data type for that 3.5 value as it is in decimal so we need to cast in float data type\n",
    "        Purchase[index_number]= float(Purchase[index_number]) \n",
    "        #remember one thing float data type is only for 3.5 value not other values\n",
    "        #Sixth--- converting whole list back to tuple\n",
    "Purchase = tuple(Purchase)\n",
    "print(Purchase)        \n",
    "#second loop --- to calculate the total purchase amount now\n",
    "total_amount = 0\n",
    "for i in Purchase:\n",
    "    total_amount = total_amount + i \n",
    "    \n",
    "print(\"Corrected Total After Adjusting 2 to 3.5 is {}\".format(total_amount))"
   ]
  },
  {
   "cell_type": "markdown",
   "id": "e5112f02-318e-4206-a3d9-947b815e3f8c",
   "metadata": {},
   "source": [
    "Program 3-- Calculating Percentage of people recommending your product"
   ]
  },
  {
   "cell_type": "code",
   "execution_count": 43,
   "id": "db9549a6-bc2b-4bfe-97aa-9b1031813cc0",
   "metadata": {},
   "outputs": [
    {
     "name": "stdout",
     "output_type": "stream",
     "text": [
      "Total number of people participate in this survey are 9\n",
      "People who recommend our products are 44%\n",
      "People who do not recommend our products are 55%\n"
     ]
    }
   ],
   "source": [
    "survey_result = ['yes','no','no','yes','yes','no','no','yes','no']\n",
    "#on behalf of this survey we have to calculate % of people for yes and % of people for no recommending\n",
    "yes_count = 0 #number of counts for yes value in our list\n",
    "no_count = 0 #same above case just for no now\n",
    "total_count = 0 #total number of people who participate\n",
    "for i in survey_result:\n",
    "    total_count = total_count + 1 \n",
    "    if i.lower()==\"yes\":\n",
    "        yes_count = yes_count + 1\n",
    "    elif i.lower() == \"no\":\n",
    "        no_count = no_count + 1\n",
    "        \n",
    "yes_percentage = (yes_count*100)//total_count #% of people who says yes in the list calculating through yes number of counts\n",
    "no_percentage = (no_count*100)//total_count #same above case just for no\n",
    "print(\"Total number of people participate in this survey are {}\".format(total_count))\n",
    "print(\"People who recommend our products are {}%\".format(yes_percentage))\n",
    "print(\"People who do not recommend our products are {}%\".format(no_percentage))\n",
    "        \n"
   ]
  },
  {
   "cell_type": "markdown",
   "id": "8e3033fe-7da8-4e89-a6a4-720d64ae114a",
   "metadata": {},
   "source": [
    "Program 4--- Retreiving and appending the data"
   ]
  },
  {
   "cell_type": "code",
   "execution_count": 50,
   "id": "408bdff0-c9b5-4a84-af00-ef3f7d8233ec",
   "metadata": {},
   "outputs": [
    {
     "name": "stdout",
     "output_type": "stream",
     "text": [
      "['In', 'Ne', 'Lo', 'Mo', 'Pa', 'Be']\n"
     ]
    }
   ],
   "source": [
    "#we have to got some particular elements from each value of list and append it into new list\n",
    "country = ['India','Nepal','London','Moscos',\"Paris\",'Berlin']\n",
    "index_number = 0 #we have to loop each value so we need index_number so we already created variable outside loop with 0 value provided\n",
    "empty_list = [] #list where new values are going to enter\n",
    "for i in country:\n",
    "     empty_list.append(country[index_number][0:2]) #taking only first 2 characters of each value in list and append it into the new list\n",
    "     index_number = index_number + 1 #increment of number by 1 so that it works for each item but remember done this only at the end \n",
    "\n",
    "print(empty_list)"
   ]
  },
  {
   "cell_type": "markdown",
   "id": "109bfc85-3515-474f-903d-576b0c51fc39",
   "metadata": {},
   "source": [
    "Program 5 -- Adding names in the new list"
   ]
  },
  {
   "cell_type": "code",
   "execution_count": 52,
   "id": "b649c3a8-cba9-4a3a-bca2-e5b96eb63732",
   "metadata": {},
   "outputs": [
    {
     "name": "stdout",
     "output_type": "stream",
     "text": [
      "['Maya', 'Luca', 'Step', 'Jace', 'Mila', 'Stev', 'Jame']\n"
     ]
    }
   ],
   "source": [
    "names = [\"Maya\",\"Luca\",\"Stephan\",\"Jace\",\"Mila\",\"Stevan\",\"James\"]\n",
    "empty_list = []\n",
    "index_number = 0\n",
    "for i in names:\n",
    "    if len(i)>4:#if the length of the characters in each value is greater than 4 then perform this\n",
    "        empty_list.append(names[index_number][:4]) #add only first 4 characters into new empty list\n",
    "    elif len(i)<=4:\n",
    "        empty_list.append(names[index_number])#otherwise if less than 4 then add whole value\n",
    "    index_number = index_number + 1\n",
    "print(empty_list)"
   ]
  },
  {
   "cell_type": "code",
   "execution_count": 1,
   "id": "38ced602-502a-4369-b028-d854e994982e",
   "metadata": {},
   "outputs": [
    {
     "name": "stdout",
     "output_type": "stream",
     "text": [
      "[['Maya', 'Luca', 'Stephan', 'Jace'], ['Maya', 'Luca', 'Stephan', 'Jace'], ['Maya', 'Luca', 'Stephan', 'Jace']]\n"
     ]
    }
   ],
   "source": [
    "names = [\"Maya\",\"Luca\",\"Stephan\",\"Jace\",\"Mila\",\"Stevan\",\"James\"]\n",
    "empty_list = []\n",
    "index_number = 0\n",
    "for i in names:\n",
    "    if len(i)>4:#if the length of the characters in each value is greater than 4 then perform this\n",
    "        empty_list.append(names[:4]) #add only first 4 characters into new empty list\n",
    "    \n",
    "print(empty_list)"
   ]
  },
  {
   "cell_type": "markdown",
   "id": "cf6c7052-6119-4049-b3c6-93c9a371760a",
   "metadata": {},
   "source": [
    "Program 6 -- Seperating the first and last name in the list"
   ]
  },
  {
   "cell_type": "code",
   "execution_count": 61,
   "id": "40149fcd-1d9f-4f8f-92cd-3be03abad24f",
   "metadata": {},
   "outputs": [
    {
     "name": "stdout",
     "output_type": "stream",
     "text": [
      "First Name list is ['Tailor', 'Indiana', 'Jeetha', 'Dinesh', 'James']\n",
      "Last Name list is ['smith', 'jones', 'babu', 'kumar', 'williams']\n"
     ]
    }
   ],
   "source": [
    "names = [\"Tailor smith\",\"Indiana jones\",\"Jeetha babu\",\"Dinesh kumar\",\"James williams\"]\n",
    "#target is to seperate the first and last name store it in new list of there respective list name\n",
    "first_name = []\n",
    "last_name = []\n",
    "index_value = 0\n",
    "for i in names:\n",
    "    new_names= names[index_value].split(\" \") #as there is space between first and last so we can split the values through space in 2 more values\n",
    "    first_name.append(new_names[0])#append the value with index number 0 as first name is there\n",
    "    last_name.append(new_names[1])#append the value with index number 1 as last name is there\n",
    "    index_value = index_value + 1\n",
    "print(\"First Name list is {}\".format(first_name))\n",
    "print(\"Last Name list is {}\".format(last_name))\n",
    "    "
   ]
  },
  {
   "cell_type": "code",
   "execution_count": null,
   "id": "6620925d-5824-4959-a748-e747a0035ace",
   "metadata": {},
   "outputs": [],
   "source": []
  },
  {
   "cell_type": "markdown",
   "id": "f01ddd0f-73f0-403e-9e26-363d909e71ae",
   "metadata": {},
   "source": [
    "Program 7--- Adding Name and age individually"
   ]
  },
  {
   "cell_type": "code",
   "execution_count": 70,
   "id": "61badda8-3f4b-4517-bc01-64c07fd47cd8",
   "metadata": {},
   "outputs": [
    {
     "name": "stdout",
     "output_type": "stream",
     "text": [
      "Name list : ['aditya', 'akshara', 'vanthana', 'Dinesh']\n",
      "Age list : [7, 5, 35, 37]\n"
     ]
    }
   ],
   "source": [
    "person_1 = [\"aditya\",7]\n",
    "\n",
    "person_2= [\"akshara\",5]\n",
    "\n",
    "person_3 = [\"vanthana\",35]\n",
    "\n",
    "person_4 = ['Dinesh',37]\n",
    "\n",
    "Final_list = [person_1 , person_2, person_3,person_4]\n",
    "\n",
    "\n",
    "name_list = []\n",
    "\n",
    "age_list = []\n",
    "\n",
    "index_value = 0\n",
    "\n",
    "for x in Final_list:\n",
    "    name_list.append(Final_list[index_value][0])#taking only name or first value of list with index number 0\n",
    "    age_list.append(Final_list[index_value][1]) #taking only age or second value of list with index number 1\n",
    "    index_value = index_value + 1\n",
    "print(\"Name list : {}\".format(name_list))\n",
    "print(\"Age list : {}\".format(age_list))\n",
    "    "
   ]
  },
  {
   "cell_type": "code",
   "execution_count": null,
   "id": "94e7d935-11b3-4d60-99df-8d25f0a578ee",
   "metadata": {},
   "outputs": [],
   "source": []
  },
  {
   "cell_type": "code",
   "execution_count": null,
   "id": "33f8c96d-5961-4614-adc7-1712d208783a",
   "metadata": {},
   "outputs": [],
   "source": []
  }
 ],
 "metadata": {
  "kernelspec": {
   "display_name": "Python 3 (ipykernel)",
   "language": "python",
   "name": "python3"
  },
  "language_info": {
   "codemirror_mode": {
    "name": "ipython",
    "version": 3
   },
   "file_extension": ".py",
   "mimetype": "text/x-python",
   "name": "python",
   "nbconvert_exporter": "python",
   "pygments_lexer": "ipython3",
   "version": "3.11.7"
  }
 },
 "nbformat": 4,
 "nbformat_minor": 5
}
