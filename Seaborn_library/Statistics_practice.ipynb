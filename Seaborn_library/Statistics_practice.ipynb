{
 "cells": [
  {
   "cell_type": "code",
   "execution_count": 1,
   "id": "6fbe0fa1",
   "metadata": {},
   "outputs": [],
   "source": [
    "import pandas as pd\n",
    "import numpy as np\n",
    "from pandas import Series,DataFrame\n",
    "import glob\n",
    "import os"
   ]
  },
  {
   "cell_type": "code",
   "execution_count": 2,
   "id": "3e9cfcd1",
   "metadata": {},
   "outputs": [],
   "source": [
    "#mathematical operations as well as statistical operations like mean median mode sdev variance libraries\n",
    "import statistics\n",
    "import math"
   ]
  },
  {
   "cell_type": "code",
   "execution_count": 3,
   "id": "3705ab3f",
   "metadata": {},
   "outputs": [],
   "source": [
    "#data plotting library\n",
    "import seaborn as sns\n",
    "import matplotlib.pyplot as plt"
   ]
  },
  {
   "cell_type": "code",
   "execution_count": 4,
   "id": "422cdda0",
   "metadata": {},
   "outputs": [],
   "source": [
    "os.chdir(\"D://Business analytics//Excel class//Python//files\")\n"
   ]
  },
  {
   "cell_type": "code",
   "execution_count": 5,
   "id": "b951f22a",
   "metadata": {},
   "outputs": [
    {
     "name": "stderr",
     "output_type": "stream",
     "text": [
      "C:\\Users\\om\\AppData\\Local\\Temp\\ipykernel_5344\\390765909.py:5: DtypeWarning: Columns (0,1,2,3,4,5,6,7,8,9,10,11,12,13,14,15) have mixed types. Specify dtype option on import or set low_memory=False.\n",
      "  df = pd.read_csv(x)\n",
      "C:\\Users\\om\\AppData\\Local\\Temp\\ipykernel_5344\\390765909.py:5: DtypeWarning: Columns (0,1,2,3,4,5,6,7,8,9,10,11,12,13,14,15) have mixed types. Specify dtype option on import or set low_memory=False.\n",
      "  df = pd.read_csv(x)\n",
      "C:\\Users\\om\\AppData\\Local\\Temp\\ipykernel_5344\\390765909.py:5: DtypeWarning: Columns (0,1,2,3,4,5,6,7,8,9,10,11,12,13,14,15) have mixed types. Specify dtype option on import or set low_memory=False.\n",
      "  df = pd.read_csv(x)\n"
     ]
    },
    {
     "data": {
      "text/plain": [
       "Index(['Date', 'channelKey', 'ProductKey', 'UnitCost', 'UnitPrice',\n",
       "       'SalesQuantity', 'ReturnQuantity', 'ReturnAmount', 'DiscountQuantity',\n",
       "       'DiscountAmount', 'TotalCost', 'SalesAmount', 'GeographyKey'],\n",
       "      dtype='object', name=1)"
      ]
     },
     "execution_count": 5,
     "metadata": {},
     "output_type": "execute_result"
    }
   ],
   "source": [
    "path = os.getcwd()\n",
    "csv_files = glob.glob(os.path.join(path,\"*.csv\"))\n",
    "append_data = []\n",
    "for x in csv_files:\n",
    "    df = pd.read_csv(x)\n",
    "    df.columns = df.iloc[1]\n",
    "    df = df.iloc[2:].reset_index(drop= True)\n",
    "    append_data.append(df)\n",
    "df_final = pd.concat(append_data)\n",
    "df_final = df_final[['Date','channelKey', 'ProductKey','UnitCost', 'UnitPrice', 'SalesQuantity','ReturnQuantity', 'ReturnAmount', 'DiscountQuantity', 'DiscountAmount',\n",
    "       'TotalCost', 'SalesAmount', 'GeographyKey']]\n",
    "df_final.columns"
   ]
  },
  {
   "cell_type": "code",
   "execution_count": 6,
   "id": "a035188b",
   "metadata": {},
   "outputs": [
    {
     "data": {
      "text/html": [
       "<div>\n",
       "<style scoped>\n",
       "    .dataframe tbody tr th:only-of-type {\n",
       "        vertical-align: middle;\n",
       "    }\n",
       "\n",
       "    .dataframe tbody tr th {\n",
       "        vertical-align: top;\n",
       "    }\n",
       "\n",
       "    .dataframe thead th {\n",
       "        text-align: right;\n",
       "    }\n",
       "</style>\n",
       "<table border=\"1\" class=\"dataframe\">\n",
       "  <thead>\n",
       "    <tr style=\"text-align: right;\">\n",
       "      <th></th>\n",
       "      <th>GeographyKey</th>\n",
       "      <th>ContinentName</th>\n",
       "    </tr>\n",
       "  </thead>\n",
       "  <tbody>\n",
       "    <tr>\n",
       "      <th>0</th>\n",
       "      <td>738</td>\n",
       "      <td>Europe</td>\n",
       "    </tr>\n",
       "    <tr>\n",
       "      <th>1</th>\n",
       "      <td>424</td>\n",
       "      <td>North America</td>\n",
       "    </tr>\n",
       "    <tr>\n",
       "      <th>2</th>\n",
       "      <td>586</td>\n",
       "      <td>Europe</td>\n",
       "    </tr>\n",
       "    <tr>\n",
       "      <th>3</th>\n",
       "      <td>840</td>\n",
       "      <td>North America</td>\n",
       "    </tr>\n",
       "    <tr>\n",
       "      <th>4</th>\n",
       "      <td>710</td>\n",
       "      <td>Asia</td>\n",
       "    </tr>\n",
       "    <tr>\n",
       "      <th>...</th>\n",
       "      <td>...</td>\n",
       "      <td>...</td>\n",
       "    </tr>\n",
       "    <tr>\n",
       "      <th>258</th>\n",
       "      <td>820</td>\n",
       "      <td>North America</td>\n",
       "    </tr>\n",
       "    <tr>\n",
       "      <th>259</th>\n",
       "      <td>905</td>\n",
       "      <td>North America</td>\n",
       "    </tr>\n",
       "    <tr>\n",
       "      <th>260</th>\n",
       "      <td>719</td>\n",
       "      <td>Asia</td>\n",
       "    </tr>\n",
       "    <tr>\n",
       "      <th>261</th>\n",
       "      <td>762</td>\n",
       "      <td>Europe</td>\n",
       "    </tr>\n",
       "    <tr>\n",
       "      <th>262</th>\n",
       "      <td>779</td>\n",
       "      <td>Europe</td>\n",
       "    </tr>\n",
       "  </tbody>\n",
       "</table>\n",
       "<p>263 rows × 2 columns</p>\n",
       "</div>"
      ],
      "text/plain": [
       "     GeographyKey  ContinentName\n",
       "0             738         Europe\n",
       "1             424  North America\n",
       "2             586         Europe\n",
       "3             840  North America\n",
       "4             710           Asia\n",
       "..            ...            ...\n",
       "258           820  North America\n",
       "259           905  North America\n",
       "260           719           Asia\n",
       "261           762         Europe\n",
       "262           779         Europe\n",
       "\n",
       "[263 rows x 2 columns]"
      ]
     },
     "execution_count": 6,
     "metadata": {},
     "output_type": "execute_result"
    }
   ],
   "source": [
    "xls = pd.ExcelFile(\"lookup1.xlsx\")\n",
    "product = pd.read_excel(xls,\"Product\")\n",
    "geography = pd.read_excel(xls,\"Geography\")\n",
    "channel = pd.read_excel(xls,\"Channel\")\n",
    "geography"
   ]
  },
  {
   "cell_type": "code",
   "execution_count": 7,
   "id": "fb407689",
   "metadata": {},
   "outputs": [],
   "source": [
    "#casting for unitprice and unitcost values\n",
    "df_final[[\"channelKey\",\"ProductKey\",\"GeographyKey\"]] = df_final[[\"channelKey\",\"ProductKey\",\"GeographyKey\"]].astype(int)\n",
    "df_final[['UnitCost', 'UnitPrice',\n",
    "       'SalesQuantity', 'ReturnQuantity', 'ReturnAmount', 'DiscountQuantity',\n",
    "       'DiscountAmount', 'TotalCost', 'SalesAmount']] = df_final[['UnitCost', 'UnitPrice',\n",
    "       'SalesQuantity', 'ReturnQuantity', 'ReturnAmount', 'DiscountQuantity',\n",
    "       'DiscountAmount', 'TotalCost', 'SalesAmount']].astype(float)"
   ]
  },
  {
   "cell_type": "code",
   "execution_count": 8,
   "id": "ee83f947",
   "metadata": {},
   "outputs": [
    {
     "data": {
      "text/html": [
       "<div>\n",
       "<style scoped>\n",
       "    .dataframe tbody tr th:only-of-type {\n",
       "        vertical-align: middle;\n",
       "    }\n",
       "\n",
       "    .dataframe tbody tr th {\n",
       "        vertical-align: top;\n",
       "    }\n",
       "\n",
       "    .dataframe thead th {\n",
       "        text-align: right;\n",
       "    }\n",
       "</style>\n",
       "<table border=\"1\" class=\"dataframe\">\n",
       "  <thead>\n",
       "    <tr style=\"text-align: right;\">\n",
       "      <th></th>\n",
       "      <th>Date</th>\n",
       "      <th>UnitCost</th>\n",
       "      <th>UnitPrice</th>\n",
       "      <th>SalesQuantity</th>\n",
       "      <th>ReturnQuantity</th>\n",
       "      <th>ReturnAmount</th>\n",
       "      <th>DiscountQuantity</th>\n",
       "      <th>DiscountAmount</th>\n",
       "      <th>TotalCost</th>\n",
       "      <th>SalesAmount</th>\n",
       "      <th>ProductName</th>\n",
       "      <th>Sub category</th>\n",
       "      <th>Category</th>\n",
       "      <th>ChannelName</th>\n",
       "      <th>ContinentName</th>\n",
       "    </tr>\n",
       "  </thead>\n",
       "  <tbody>\n",
       "    <tr>\n",
       "      <th>0</th>\n",
       "      <td>01-01-2014</td>\n",
       "      <td>73.12</td>\n",
       "      <td>159.00</td>\n",
       "      <td>9.0</td>\n",
       "      <td>0.0</td>\n",
       "      <td>0.00</td>\n",
       "      <td>0.0</td>\n",
       "      <td>0.000</td>\n",
       "      <td>658.08</td>\n",
       "      <td>1431.000</td>\n",
       "      <td>Proseware Photo Ink Jet Printer M100 White</td>\n",
       "      <td>Printers, Scanners &amp; Fax</td>\n",
       "      <td>Computers</td>\n",
       "      <td>Store</td>\n",
       "      <td>North America</td>\n",
       "    </tr>\n",
       "    <tr>\n",
       "      <th>1</th>\n",
       "      <td>01-01-2014</td>\n",
       "      <td>509.32</td>\n",
       "      <td>999.00</td>\n",
       "      <td>3.0</td>\n",
       "      <td>1.0</td>\n",
       "      <td>999.00</td>\n",
       "      <td>1.0</td>\n",
       "      <td>149.850</td>\n",
       "      <td>1527.96</td>\n",
       "      <td>2847.150</td>\n",
       "      <td>Litware Washer &amp; Dryer 15.5in E150 Green</td>\n",
       "      <td>Washers &amp; Dryers</td>\n",
       "      <td>Home Appliances</td>\n",
       "      <td>Store</td>\n",
       "      <td>Asia</td>\n",
       "    </tr>\n",
       "    <tr>\n",
       "      <th>2</th>\n",
       "      <td>01-01-2014</td>\n",
       "      <td>16.31</td>\n",
       "      <td>32.00</td>\n",
       "      <td>4.0</td>\n",
       "      <td>0.0</td>\n",
       "      <td>0.00</td>\n",
       "      <td>7.0</td>\n",
       "      <td>11.200</td>\n",
       "      <td>65.24</td>\n",
       "      <td>116.800</td>\n",
       "      <td>MGS Age of Empires II: The Conquerors Expansio...</td>\n",
       "      <td>Download Games</td>\n",
       "      <td>Games and Toys</td>\n",
       "      <td>Online</td>\n",
       "      <td>North America</td>\n",
       "    </tr>\n",
       "    <tr>\n",
       "      <th>3</th>\n",
       "      <td>01-01-2014</td>\n",
       "      <td>105.77</td>\n",
       "      <td>230.00</td>\n",
       "      <td>18.0</td>\n",
       "      <td>0.0</td>\n",
       "      <td>0.00</td>\n",
       "      <td>1.0</td>\n",
       "      <td>11.500</td>\n",
       "      <td>1903.86</td>\n",
       "      <td>4128.500</td>\n",
       "      <td>The Phone Company Touch Screen Phones 26-2.2\" ...</td>\n",
       "      <td>Touch Screen Phones</td>\n",
       "      <td>Cell phones</td>\n",
       "      <td>Online</td>\n",
       "      <td>North America</td>\n",
       "    </tr>\n",
       "    <tr>\n",
       "      <th>4</th>\n",
       "      <td>01-01-2014</td>\n",
       "      <td>1.71</td>\n",
       "      <td>3.35</td>\n",
       "      <td>80.0</td>\n",
       "      <td>1.0</td>\n",
       "      <td>3.35</td>\n",
       "      <td>0.0</td>\n",
       "      <td>0.000</td>\n",
       "      <td>136.80</td>\n",
       "      <td>268.000</td>\n",
       "      <td>Contoso In-Line Coupler E180 Silver</td>\n",
       "      <td>Cell phones Accessories</td>\n",
       "      <td>Cell phones</td>\n",
       "      <td>Store</td>\n",
       "      <td>North America</td>\n",
       "    </tr>\n",
       "    <tr>\n",
       "      <th>...</th>\n",
       "      <td>...</td>\n",
       "      <td>...</td>\n",
       "      <td>...</td>\n",
       "      <td>...</td>\n",
       "      <td>...</td>\n",
       "      <td>...</td>\n",
       "      <td>...</td>\n",
       "      <td>...</td>\n",
       "      <td>...</td>\n",
       "      <td>...</td>\n",
       "      <td>...</td>\n",
       "      <td>...</td>\n",
       "      <td>...</td>\n",
       "      <td>...</td>\n",
       "      <td>...</td>\n",
       "    </tr>\n",
       "    <tr>\n",
       "      <th>859500</th>\n",
       "      <td>31-12-2016</td>\n",
       "      <td>208.40</td>\n",
       "      <td>629.00</td>\n",
       "      <td>8.0</td>\n",
       "      <td>0.0</td>\n",
       "      <td>0.00</td>\n",
       "      <td>3.0</td>\n",
       "      <td>377.400</td>\n",
       "      <td>1667.20</td>\n",
       "      <td>4654.600</td>\n",
       "      <td>Fabrikam SLR Camera X146 Black</td>\n",
       "      <td>Digital SLR Cameras</td>\n",
       "      <td>Cameras and camcorders</td>\n",
       "      <td>Store</td>\n",
       "      <td>Europe</td>\n",
       "    </tr>\n",
       "    <tr>\n",
       "      <th>859501</th>\n",
       "      <td>31-12-2016</td>\n",
       "      <td>222.98</td>\n",
       "      <td>673.00</td>\n",
       "      <td>6.0</td>\n",
       "      <td>0.0</td>\n",
       "      <td>0.00</td>\n",
       "      <td>3.0</td>\n",
       "      <td>403.800</td>\n",
       "      <td>1337.88</td>\n",
       "      <td>3634.200</td>\n",
       "      <td>Contoso SLR Camera X144 Gold</td>\n",
       "      <td>Digital SLR Cameras</td>\n",
       "      <td>Cameras and camcorders</td>\n",
       "      <td>Store</td>\n",
       "      <td>North America</td>\n",
       "    </tr>\n",
       "    <tr>\n",
       "      <th>859502</th>\n",
       "      <td>31-12-2016</td>\n",
       "      <td>123.24</td>\n",
       "      <td>268.00</td>\n",
       "      <td>13.0</td>\n",
       "      <td>0.0</td>\n",
       "      <td>0.00</td>\n",
       "      <td>4.0</td>\n",
       "      <td>214.400</td>\n",
       "      <td>1602.12</td>\n",
       "      <td>3269.600</td>\n",
       "      <td>The Phone Company Touch Screen Phones 26-1.4\" ...</td>\n",
       "      <td>Touch Screen Phones</td>\n",
       "      <td>Cell phones</td>\n",
       "      <td>Catalog</td>\n",
       "      <td>North America</td>\n",
       "    </tr>\n",
       "    <tr>\n",
       "      <th>859503</th>\n",
       "      <td>31-12-2016</td>\n",
       "      <td>210.72</td>\n",
       "      <td>635.99</td>\n",
       "      <td>24.0</td>\n",
       "      <td>1.0</td>\n",
       "      <td>635.99</td>\n",
       "      <td>10.0</td>\n",
       "      <td>953.985</td>\n",
       "      <td>5057.28</td>\n",
       "      <td>14309.775</td>\n",
       "      <td>Adventure Works Floor Lamp X1150 Silver</td>\n",
       "      <td>Lamps</td>\n",
       "      <td>Home Appliances</td>\n",
       "      <td>Online</td>\n",
       "      <td>Asia</td>\n",
       "    </tr>\n",
       "    <tr>\n",
       "      <th>859504</th>\n",
       "      <td>31-12-2016</td>\n",
       "      <td>195.24</td>\n",
       "      <td>382.95</td>\n",
       "      <td>13.0</td>\n",
       "      <td>1.0</td>\n",
       "      <td>382.95</td>\n",
       "      <td>4.0</td>\n",
       "      <td>229.770</td>\n",
       "      <td>2342.88</td>\n",
       "      <td>4748.580</td>\n",
       "      <td>Adventure Works Laptop12 M1201 Silver</td>\n",
       "      <td>Laptops</td>\n",
       "      <td>Computers</td>\n",
       "      <td>Store</td>\n",
       "      <td>Asia</td>\n",
       "    </tr>\n",
       "  </tbody>\n",
       "</table>\n",
       "<p>859505 rows × 15 columns</p>\n",
       "</div>"
      ],
      "text/plain": [
       "              Date  UnitCost  UnitPrice  SalesQuantity  ReturnQuantity  \\\n",
       "0       01-01-2014     73.12     159.00            9.0             0.0   \n",
       "1       01-01-2014    509.32     999.00            3.0             1.0   \n",
       "2       01-01-2014     16.31      32.00            4.0             0.0   \n",
       "3       01-01-2014    105.77     230.00           18.0             0.0   \n",
       "4       01-01-2014      1.71       3.35           80.0             1.0   \n",
       "...            ...       ...        ...            ...             ...   \n",
       "859500  31-12-2016    208.40     629.00            8.0             0.0   \n",
       "859501  31-12-2016    222.98     673.00            6.0             0.0   \n",
       "859502  31-12-2016    123.24     268.00           13.0             0.0   \n",
       "859503  31-12-2016    210.72     635.99           24.0             1.0   \n",
       "859504  31-12-2016    195.24     382.95           13.0             1.0   \n",
       "\n",
       "        ReturnAmount  DiscountQuantity  DiscountAmount  TotalCost  \\\n",
       "0               0.00               0.0           0.000     658.08   \n",
       "1             999.00               1.0         149.850    1527.96   \n",
       "2               0.00               7.0          11.200      65.24   \n",
       "3               0.00               1.0          11.500    1903.86   \n",
       "4               3.35               0.0           0.000     136.80   \n",
       "...              ...               ...             ...        ...   \n",
       "859500          0.00               3.0         377.400    1667.20   \n",
       "859501          0.00               3.0         403.800    1337.88   \n",
       "859502          0.00               4.0         214.400    1602.12   \n",
       "859503        635.99              10.0         953.985    5057.28   \n",
       "859504        382.95               4.0         229.770    2342.88   \n",
       "\n",
       "        SalesAmount                                        ProductName  \\\n",
       "0          1431.000         Proseware Photo Ink Jet Printer M100 White   \n",
       "1          2847.150           Litware Washer & Dryer 15.5in E150 Green   \n",
       "2           116.800  MGS Age of Empires II: The Conquerors Expansio...   \n",
       "3          4128.500  The Phone Company Touch Screen Phones 26-2.2\" ...   \n",
       "4           268.000                Contoso In-Line Coupler E180 Silver   \n",
       "...             ...                                                ...   \n",
       "859500     4654.600                     Fabrikam SLR Camera X146 Black   \n",
       "859501     3634.200                       Contoso SLR Camera X144 Gold   \n",
       "859502     3269.600  The Phone Company Touch Screen Phones 26-1.4\" ...   \n",
       "859503    14309.775            Adventure Works Floor Lamp X1150 Silver   \n",
       "859504     4748.580              Adventure Works Laptop12 M1201 Silver   \n",
       "\n",
       "                    Sub category                 Category ChannelName  \\\n",
       "0       Printers, Scanners & Fax                Computers       Store   \n",
       "1               Washers & Dryers          Home Appliances       Store   \n",
       "2                 Download Games           Games and Toys      Online   \n",
       "3           Touch Screen Phones               Cell phones      Online   \n",
       "4        Cell phones Accessories              Cell phones       Store   \n",
       "...                          ...                      ...         ...   \n",
       "859500       Digital SLR Cameras  Cameras and camcorders        Store   \n",
       "859501       Digital SLR Cameras  Cameras and camcorders        Store   \n",
       "859502      Touch Screen Phones               Cell phones     Catalog   \n",
       "859503                     Lamps          Home Appliances      Online   \n",
       "859504                   Laptops                Computers       Store   \n",
       "\n",
       "        ContinentName  \n",
       "0       North America  \n",
       "1                Asia  \n",
       "2       North America  \n",
       "3       North America  \n",
       "4       North America  \n",
       "...               ...  \n",
       "859500         Europe  \n",
       "859501  North America  \n",
       "859502  North America  \n",
       "859503           Asia  \n",
       "859504           Asia  \n",
       "\n",
       "[859505 rows x 15 columns]"
      ]
     },
     "execution_count": 8,
     "metadata": {},
     "output_type": "execute_result"
    }
   ],
   "source": [
    "df_final1 = pd.merge(df_final,product,how = \"left\",left_on = \"ProductKey\",right_on = \"ProductKey\")\n",
    "df_final1 = pd.merge(df_final1,channel,how =\"left\",left_on= \"channelKey\",right_on = \"ChannelKey\")\n",
    "df_final1 = pd.merge(df_final1,geography,how= \"left\",left_on = \"GeographyKey\",right_on = \"GeographyKey\")\n",
    "\n",
    "df_final1 = df_final1.drop(columns =[\"channelKey\",\"ProductKey\",\"GeographyKey\",\"ChannelKey\"])\n",
    "df_final1"
   ]
  },
  {
   "cell_type": "code",
   "execution_count": 9,
   "id": "45a5e4c6",
   "metadata": {},
   "outputs": [
    {
     "data": {
      "text/html": [
       "<div>\n",
       "<style scoped>\n",
       "    .dataframe tbody tr th:only-of-type {\n",
       "        vertical-align: middle;\n",
       "    }\n",
       "\n",
       "    .dataframe tbody tr th {\n",
       "        vertical-align: top;\n",
       "    }\n",
       "\n",
       "    .dataframe thead th {\n",
       "        text-align: right;\n",
       "    }\n",
       "</style>\n",
       "<table border=\"1\" class=\"dataframe\">\n",
       "  <thead>\n",
       "    <tr style=\"text-align: right;\">\n",
       "      <th></th>\n",
       "      <th>UnitCost</th>\n",
       "      <th>UnitPrice</th>\n",
       "      <th>SalesAmount</th>\n",
       "    </tr>\n",
       "    <tr>\n",
       "      <th>Date</th>\n",
       "      <th></th>\n",
       "      <th></th>\n",
       "      <th></th>\n",
       "    </tr>\n",
       "  </thead>\n",
       "  <tbody>\n",
       "    <tr>\n",
       "      <th>01-01-2014</th>\n",
       "      <td>73.12</td>\n",
       "      <td>159.00</td>\n",
       "      <td>1431.000</td>\n",
       "    </tr>\n",
       "    <tr>\n",
       "      <th>01-01-2014</th>\n",
       "      <td>509.32</td>\n",
       "      <td>999.00</td>\n",
       "      <td>2847.150</td>\n",
       "    </tr>\n",
       "    <tr>\n",
       "      <th>01-01-2014</th>\n",
       "      <td>16.31</td>\n",
       "      <td>32.00</td>\n",
       "      <td>116.800</td>\n",
       "    </tr>\n",
       "    <tr>\n",
       "      <th>01-01-2014</th>\n",
       "      <td>105.77</td>\n",
       "      <td>230.00</td>\n",
       "      <td>4128.500</td>\n",
       "    </tr>\n",
       "    <tr>\n",
       "      <th>01-01-2014</th>\n",
       "      <td>1.71</td>\n",
       "      <td>3.35</td>\n",
       "      <td>268.000</td>\n",
       "    </tr>\n",
       "    <tr>\n",
       "      <th>...</th>\n",
       "      <td>...</td>\n",
       "      <td>...</td>\n",
       "      <td>...</td>\n",
       "    </tr>\n",
       "    <tr>\n",
       "      <th>31-12-2016</th>\n",
       "      <td>208.40</td>\n",
       "      <td>629.00</td>\n",
       "      <td>4654.600</td>\n",
       "    </tr>\n",
       "    <tr>\n",
       "      <th>31-12-2016</th>\n",
       "      <td>222.98</td>\n",
       "      <td>673.00</td>\n",
       "      <td>3634.200</td>\n",
       "    </tr>\n",
       "    <tr>\n",
       "      <th>31-12-2016</th>\n",
       "      <td>123.24</td>\n",
       "      <td>268.00</td>\n",
       "      <td>3269.600</td>\n",
       "    </tr>\n",
       "    <tr>\n",
       "      <th>31-12-2016</th>\n",
       "      <td>210.72</td>\n",
       "      <td>635.99</td>\n",
       "      <td>14309.775</td>\n",
       "    </tr>\n",
       "    <tr>\n",
       "      <th>31-12-2016</th>\n",
       "      <td>195.24</td>\n",
       "      <td>382.95</td>\n",
       "      <td>4748.580</td>\n",
       "    </tr>\n",
       "  </tbody>\n",
       "</table>\n",
       "<p>859505 rows × 3 columns</p>\n",
       "</div>"
      ],
      "text/plain": [
       "            UnitCost  UnitPrice  SalesAmount\n",
       "Date                                        \n",
       "01-01-2014     73.12     159.00     1431.000\n",
       "01-01-2014    509.32     999.00     2847.150\n",
       "01-01-2014     16.31      32.00      116.800\n",
       "01-01-2014    105.77     230.00     4128.500\n",
       "01-01-2014      1.71       3.35      268.000\n",
       "...              ...        ...          ...\n",
       "31-12-2016    208.40     629.00     4654.600\n",
       "31-12-2016    222.98     673.00     3634.200\n",
       "31-12-2016    123.24     268.00     3269.600\n",
       "31-12-2016    210.72     635.99    14309.775\n",
       "31-12-2016    195.24     382.95     4748.580\n",
       "\n",
       "[859505 rows x 3 columns]"
      ]
     },
     "execution_count": 9,
     "metadata": {},
     "output_type": "execute_result"
    }
   ],
   "source": [
    "Stats = df_final1[[\"Date\",\"UnitCost\",\"UnitPrice\",\"SalesAmount\"]]\n",
    "Stats = Stats.set_index(\"Date\")\n",
    "Stats"
   ]
  },
  {
   "cell_type": "markdown",
   "id": "a2547534",
   "metadata": {},
   "source": [
    "# Central Tendency"
   ]
  },
  {
   "cell_type": "markdown",
   "id": "cc72510b",
   "metadata": {},
   "source": [
    "Mean-- The average of all the data in our dataframe"
   ]
  },
  {
   "cell_type": "code",
   "execution_count": 10,
   "id": "72899981",
   "metadata": {},
   "outputs": [
    {
     "data": {
      "text/plain": [
       "103"
      ]
     },
     "execution_count": 10,
     "metadata": {},
     "output_type": "execute_result"
    }
   ],
   "source": [
    "numbers = [10,20,30,40,50,60,70,800,-90,45]\n",
    "#this is the normal math type way for to performing the statistical operations like mean median or mode\n",
    "mean = sum(numbers)//len(numbers)\n",
    "mean"
   ]
  },
  {
   "cell_type": "code",
   "execution_count": 11,
   "id": "0d47eb27",
   "metadata": {},
   "outputs": [
    {
     "name": "stdout",
     "output_type": "stream",
     "text": [
      "16.618181818181817\n"
     ]
    }
   ],
   "source": [
    "#Through Stats library\n",
    "num_2 = [10,13,21,14,15,16,17,18,-19,-1,78.8]\n",
    "mean = statistics.mean(num_2)\n",
    "print(mean)"
   ]
  },
  {
   "cell_type": "markdown",
   "id": "e526be64",
   "metadata": {},
   "source": [
    "Median-- the center most value present in the data that makes 50-50 difference "
   ]
  },
  {
   "cell_type": "code",
   "execution_count": 12,
   "id": "090721ba",
   "metadata": {},
   "outputs": [
    {
     "name": "stdout",
     "output_type": "stream",
     "text": [
      "[80, 70, 60, 50, 40, 30, 30, 30, 20, 10]\n"
     ]
    },
    {
     "data": {
      "text/plain": [
       "35"
      ]
     },
     "execution_count": 12,
     "metadata": {},
     "output_type": "execute_result"
    }
   ],
   "source": [
    "#traditional or normal math way\n",
    "num_3 = [80,70,30,10,20,30,40,50,60,30]\n",
    "num_3.sort(reverse= True)#that is in descending order\n",
    "#for odd number lengh formulae is different and for even number length formulae is different\n",
    "print((num_3))\n",
    "#so this is even \n",
    "median = (num_3[len(num_3)//2] + num_3[len(num_3)//2-1])//2\n",
    "median"
   ]
  },
  {
   "cell_type": "code",
   "execution_count": 13,
   "id": "6d48d3ee",
   "metadata": {},
   "outputs": [
    {
     "name": "stdout",
     "output_type": "stream",
     "text": [
      "[80, 70, 60, 50, 40, 30, 30, 30, 20, 10, 70]\n"
     ]
    }
   ],
   "source": [
    "#in case of odd number length\n",
    "num_3.append(70)\n",
    "print(num_3)"
   ]
  },
  {
   "cell_type": "code",
   "execution_count": 14,
   "id": "1ef50e85",
   "metadata": {},
   "outputs": [
    {
     "name": "stdout",
     "output_type": "stream",
     "text": [
      "The median for odd number length is 30\n"
     ]
    }
   ],
   "source": [
    "median_2 = num_3[len(num_3)//2]\n",
    "print(\"The median for odd number length is {}\".format(median_2))"
   ]
  },
  {
   "cell_type": "code",
   "execution_count": null,
   "id": "65362ac2",
   "metadata": {},
   "outputs": [],
   "source": []
  },
  {
   "cell_type": "code",
   "execution_count": 15,
   "id": "9c32142f",
   "metadata": {},
   "outputs": [
    {
     "name": "stdout",
     "output_type": "stream",
     "text": [
      "[80, 70, 60, 50, 40, 30, 30, 30, 20, 10, 70]\n"
     ]
    },
    {
     "data": {
      "text/plain": [
       "40"
      ]
     },
     "execution_count": 15,
     "metadata": {},
     "output_type": "execute_result"
    }
   ],
   "source": [
    "#through statistical library calculation\n",
    "print(num_3)\n",
    "statistics.median(num_3) #this is showing different value because statistics module removes the duplicate values"
   ]
  },
  {
   "cell_type": "code",
   "execution_count": 16,
   "id": "6f45f568",
   "metadata": {},
   "outputs": [
    {
     "data": {
      "text/plain": [
       "15.0"
      ]
     },
     "execution_count": 16,
     "metadata": {},
     "output_type": "execute_result"
    }
   ],
   "source": [
    "num_4 = [10,10,20,30]\n",
    "statistics.median(num_4)"
   ]
  },
  {
   "cell_type": "code",
   "execution_count": 17,
   "id": "3fd681ab",
   "metadata": {},
   "outputs": [
    {
     "data": {
      "text/plain": [
       "30"
      ]
     },
     "execution_count": 17,
     "metadata": {},
     "output_type": "execute_result"
    }
   ],
   "source": [
    "num_3 = [10,20,30,40,50]\n",
    "statistics.median(num_3)"
   ]
  },
  {
   "cell_type": "code",
   "execution_count": 18,
   "id": "3d26a228",
   "metadata": {},
   "outputs": [
    {
     "name": "stdout",
     "output_type": "stream",
     "text": [
      "30\n"
     ]
    }
   ],
   "source": [
    "median_2 = num_3[len(num_3)//2]\n",
    "print(median_2)"
   ]
  },
  {
   "cell_type": "code",
   "execution_count": 19,
   "id": "8aec470f",
   "metadata": {},
   "outputs": [
    {
     "data": {
      "text/plain": [
       "20"
      ]
     },
     "execution_count": 19,
     "metadata": {},
     "output_type": "execute_result"
    }
   ],
   "source": [
    "num_4 = [10,10,20,30,40]\n",
    "statistics.median(num_4)"
   ]
  },
  {
   "cell_type": "code",
   "execution_count": 20,
   "id": "f9026b48",
   "metadata": {},
   "outputs": [
    {
     "name": "stdout",
     "output_type": "stream",
     "text": [
      "20\n"
     ]
    }
   ],
   "source": [
    "median_4 = num_4[len(num_4)//2]\n",
    "print(median_4)"
   ]
  },
  {
   "cell_type": "markdown",
   "id": "0b369ce8",
   "metadata": {},
   "source": [
    "Mode-- Most frequently occuring value in our dataset"
   ]
  },
  {
   "cell_type": "code",
   "execution_count": 21,
   "id": "076ab65d",
   "metadata": {},
   "outputs": [
    {
     "data": {
      "text/plain": [
       "{10, 20, 30, 40}"
      ]
     },
     "execution_count": 21,
     "metadata": {},
     "output_type": "execute_result"
    }
   ],
   "source": [
    "mode_numbers = [10,10,10,20,30,40]\n",
    "#traditional way\n",
    "set(mode_numbers)"
   ]
  },
  {
   "cell_type": "code",
   "execution_count": 22,
   "id": "10007e6a",
   "metadata": {},
   "outputs": [
    {
     "data": {
      "text/plain": [
       "10"
      ]
     },
     "execution_count": 22,
     "metadata": {},
     "output_type": "execute_result"
    }
   ],
   "source": [
    "max(set(mode_numbers),key =mode_numbers.count)"
   ]
  },
  {
   "cell_type": "code",
   "execution_count": 23,
   "id": "6e25f4d8",
   "metadata": {},
   "outputs": [
    {
     "data": {
      "text/plain": [
       "10"
      ]
     },
     "execution_count": 23,
     "metadata": {},
     "output_type": "execute_result"
    }
   ],
   "source": [
    "statistics.mode(mode_numbers)"
   ]
  },
  {
   "cell_type": "markdown",
   "id": "a73752c8",
   "metadata": {},
   "source": [
    "# Standard Deviation"
   ]
  },
  {
   "cell_type": "markdown",
   "id": "15687943",
   "metadata": {},
   "source": [
    "It indicates how your individual data is deviates from the mean of the data set"
   ]
  },
  {
   "cell_type": "markdown",
   "id": "75ae5bad",
   "metadata": {},
   "source": [
    "Low sd means highly clustered data points among the mean and high sd is vice versa for the same"
   ]
  },
  {
   "cell_type": "code",
   "execution_count": 24,
   "id": "34b5bf9f",
   "metadata": {},
   "outputs": [
    {
     "name": "stdout",
     "output_type": "stream",
     "text": [
      "The mean of dataset is 55 and the sd is 30.276503540974918\n"
     ]
    }
   ],
   "source": [
    "numbers = [10,20,30,40,50,60,70,80,90,100]\n",
    "mean = statistics.mean(numbers)\n",
    "sd_1 = statistics.stdev(numbers)\n",
    "print(\"The mean of dataset is {} and the sd is {}\".format(mean,sd_1))\n",
    "#here you can see the sd is not too high and when you plot the data points you will see uniform and closely clustered to mean"
   ]
  },
  {
   "cell_type": "code",
   "execution_count": 25,
   "id": "47705590",
   "metadata": {},
   "outputs": [
    {
     "name": "stdout",
     "output_type": "stream",
     "text": [
      "The mean of dataset is 177.27272727272728 and the sd is 305.4207232357002\n"
     ]
    }
   ],
   "source": [
    "#no we what if there is some big number present in the dataset\n",
    "numbers_2 = [10,20,30,40,50,60,70,80,90,1000,500]\n",
    "mean = statistics.mean(numbers_2)\n",
    "sd_2 = statistics.stdev(numbers_2)\n",
    "print(\"The mean of dataset is {} and the sd is {}\".format(mean,sd_2))"
   ]
  },
  {
   "cell_type": "code",
   "execution_count": 26,
   "id": "f3c6fb9a",
   "metadata": {},
   "outputs": [
    {
     "name": "stdout",
     "output_type": "stream",
     "text": [
      "The mean of dataset is 1.8461538461538463 and the sd is 0.8006407690254357\n"
     ]
    }
   ],
   "source": [
    "#now see the low sd example and see how closely data points reduce the sd\n",
    "numbers_3 = [1,1,2,3,1,2,3,2,1,2,3,1,2]\n",
    "mean = statistics.mean(numbers_3)\n",
    "sd_3 = statistics.stdev(numbers_3)\n",
    "print(\"The mean of dataset is {} and the sd is {}\".format(mean,sd_3))"
   ]
  },
  {
   "cell_type": "markdown",
   "id": "b4ddf10d",
   "metadata": {},
   "source": [
    "Variance"
   ]
  },
  {
   "cell_type": "code",
   "execution_count": 27,
   "id": "71bee419",
   "metadata": {},
   "outputs": [
    {
     "name": "stdout",
     "output_type": "stream",
     "text": [
      "The variance of the given dataset is 93281.81818181819\n",
      "93281.81818181818\n"
     ]
    }
   ],
   "source": [
    "#first method \n",
    "variance = (statistics.stdev(numbers_2))**2\n",
    "print(\"The variance of the given dataset is {}\".format(variance))\n",
    "#second method\n",
    "print(statistics.variance(numbers_2))"
   ]
  },
  {
   "cell_type": "markdown",
   "id": "7621fd42",
   "metadata": {},
   "source": [
    "Now we are going to find out the central tendency for our Stats dataframe"
   ]
  },
  {
   "cell_type": "code",
   "execution_count": 28,
   "id": "a78f4141",
   "metadata": {},
   "outputs": [
    {
     "data": {
      "text/html": [
       "<div>\n",
       "<style scoped>\n",
       "    .dataframe tbody tr th:only-of-type {\n",
       "        vertical-align: middle;\n",
       "    }\n",
       "\n",
       "    .dataframe tbody tr th {\n",
       "        vertical-align: top;\n",
       "    }\n",
       "\n",
       "    .dataframe thead th {\n",
       "        text-align: right;\n",
       "    }\n",
       "</style>\n",
       "<table border=\"1\" class=\"dataframe\">\n",
       "  <thead>\n",
       "    <tr style=\"text-align: right;\">\n",
       "      <th></th>\n",
       "      <th>UnitCost</th>\n",
       "      <th>UnitPrice</th>\n",
       "      <th>SalesAmount</th>\n",
       "    </tr>\n",
       "  </thead>\n",
       "  <tbody>\n",
       "    <tr>\n",
       "      <th>count</th>\n",
       "      <td>859505.000000</td>\n",
       "      <td>859505.000000</td>\n",
       "      <td>859505.000000</td>\n",
       "    </tr>\n",
       "    <tr>\n",
       "      <th>mean</th>\n",
       "      <td>139.869492</td>\n",
       "      <td>333.782285</td>\n",
       "      <td>3780.213527</td>\n",
       "    </tr>\n",
       "    <tr>\n",
       "      <th>std</th>\n",
       "      <td>167.488106</td>\n",
       "      <td>429.060293</td>\n",
       "      <td>5317.942758</td>\n",
       "    </tr>\n",
       "    <tr>\n",
       "      <th>min</th>\n",
       "      <td>0.480000</td>\n",
       "      <td>0.950000</td>\n",
       "      <td>3.040000</td>\n",
       "    </tr>\n",
       "    <tr>\n",
       "      <th>25%</th>\n",
       "      <td>32.250000</td>\n",
       "      <td>69.000000</td>\n",
       "      <td>657.415500</td>\n",
       "    </tr>\n",
       "    <tr>\n",
       "      <th>50%</th>\n",
       "      <td>84.840000</td>\n",
       "      <td>188.000000</td>\n",
       "      <td>2080.000000</td>\n",
       "    </tr>\n",
       "    <tr>\n",
       "      <th>75%</th>\n",
       "      <td>204.640000</td>\n",
       "      <td>445.000000</td>\n",
       "      <td>4990.000000</td>\n",
       "    </tr>\n",
       "    <tr>\n",
       "      <th>max</th>\n",
       "      <td>960.820000</td>\n",
       "      <td>2899.990000</td>\n",
       "      <td>272718.120000</td>\n",
       "    </tr>\n",
       "  </tbody>\n",
       "</table>\n",
       "</div>"
      ],
      "text/plain": [
       "            UnitCost      UnitPrice    SalesAmount\n",
       "count  859505.000000  859505.000000  859505.000000\n",
       "mean      139.869492     333.782285    3780.213527\n",
       "std       167.488106     429.060293    5317.942758\n",
       "min         0.480000       0.950000       3.040000\n",
       "25%        32.250000      69.000000     657.415500\n",
       "50%        84.840000     188.000000    2080.000000\n",
       "75%       204.640000     445.000000    4990.000000\n",
       "max       960.820000    2899.990000  272718.120000"
      ]
     },
     "execution_count": 28,
     "metadata": {},
     "output_type": "execute_result"
    }
   ],
   "source": [
    "Stats.describe()"
   ]
  },
  {
   "cell_type": "code",
   "execution_count": 29,
   "id": "189e30db",
   "metadata": {},
   "outputs": [
    {
     "data": {
      "text/plain": [
       "count    859505.000000\n",
       "mean        333.782285\n",
       "std         429.060293\n",
       "min           0.950000\n",
       "25%          69.000000\n",
       "50%         188.000000\n",
       "75%         445.000000\n",
       "max        2899.990000\n",
       "Name: UnitPrice, dtype: float64"
      ]
     },
     "execution_count": 29,
     "metadata": {},
     "output_type": "execute_result"
    }
   ],
   "source": [
    "#for to get description for each column\n",
    "Stats[\"UnitPrice\"].describe()"
   ]
  },
  {
   "cell_type": "code",
   "execution_count": 31,
   "id": "d0c85a9a",
   "metadata": {},
   "outputs": [
    {
     "name": "stdout",
     "output_type": "stream",
     "text": [
      "The mean for Sales amount is 3780.213526960634 and standard deviation is 5317.942758136652\n"
     ]
    }
   ],
   "source": [
    "St = Stats.SalesAmount #storing all the sales value data in list data type\n",
    "mean_1 = statistics.mean(St)\n",
    "Stdev_1 = statistics.stdev(St)\n",
    "print(\"The mean for Sales amount is {} and standard deviation is {}\".format(mean_1,Stdev_1))"
   ]
  },
  {
   "cell_type": "markdown",
   "id": "e742a29f",
   "metadata": {},
   "source": [
    "# Trying the statistics describe formulae on small dataset"
   ]
  },
  {
   "cell_type": "code",
   "execution_count": 33,
   "id": "cecddd3f",
   "metadata": {},
   "outputs": [
    {
     "data": {
      "text/html": [
       "<div>\n",
       "<style scoped>\n",
       "    .dataframe tbody tr th:only-of-type {\n",
       "        vertical-align: middle;\n",
       "    }\n",
       "\n",
       "    .dataframe tbody tr th {\n",
       "        vertical-align: top;\n",
       "    }\n",
       "\n",
       "    .dataframe thead th {\n",
       "        text-align: right;\n",
       "    }\n",
       "</style>\n",
       "<table border=\"1\" class=\"dataframe\">\n",
       "  <thead>\n",
       "    <tr style=\"text-align: right;\">\n",
       "      <th></th>\n",
       "      <th>0</th>\n",
       "    </tr>\n",
       "  </thead>\n",
       "  <tbody>\n",
       "    <tr>\n",
       "      <th>count</th>\n",
       "      <td>9.000000</td>\n",
       "    </tr>\n",
       "    <tr>\n",
       "      <th>mean</th>\n",
       "      <td>3.111111</td>\n",
       "    </tr>\n",
       "    <tr>\n",
       "      <th>std</th>\n",
       "      <td>2.088327</td>\n",
       "    </tr>\n",
       "    <tr>\n",
       "      <th>min</th>\n",
       "      <td>1.000000</td>\n",
       "    </tr>\n",
       "    <tr>\n",
       "      <th>25%</th>\n",
       "      <td>1.000000</td>\n",
       "    </tr>\n",
       "    <tr>\n",
       "      <th>50%</th>\n",
       "      <td>3.000000</td>\n",
       "    </tr>\n",
       "    <tr>\n",
       "      <th>75%</th>\n",
       "      <td>4.000000</td>\n",
       "    </tr>\n",
       "    <tr>\n",
       "      <th>max</th>\n",
       "      <td>7.000000</td>\n",
       "    </tr>\n",
       "  </tbody>\n",
       "</table>\n",
       "</div>"
      ],
      "text/plain": [
       "              0\n",
       "count  9.000000\n",
       "mean   3.111111\n",
       "std    2.088327\n",
       "min    1.000000\n",
       "25%    1.000000\n",
       "50%    3.000000\n",
       "75%    4.000000\n",
       "max    7.000000"
      ]
     },
     "execution_count": 33,
     "metadata": {},
     "output_type": "execute_result"
    }
   ],
   "source": [
    "set_1 = [1,1,1,3,2,4,5,4,7]\n",
    "df_set_1 = pd.DataFrame(set_1)\n",
    "df_set_1.describe()"
   ]
  },
  {
   "cell_type": "code",
   "execution_count": null,
   "id": "51c7d9f5",
   "metadata": {},
   "outputs": [],
   "source": []
  }
 ],
 "metadata": {
  "kernelspec": {
   "display_name": "Python 3 (ipykernel)",
   "language": "python",
   "name": "python3"
  },
  "language_info": {
   "codemirror_mode": {
    "name": "ipython",
    "version": 3
   },
   "file_extension": ".py",
   "mimetype": "text/x-python",
   "name": "python",
   "nbconvert_exporter": "python",
   "pygments_lexer": "ipython3",
   "version": "3.11.7"
  }
 },
 "nbformat": 4,
 "nbformat_minor": 5
}
