{
 "cells": [
  {
   "cell_type": "code",
   "execution_count": 1,
   "id": "07a08575",
   "metadata": {},
   "outputs": [
    {
     "name": "stdout",
     "output_type": "stream",
     "text": [
      "4\n",
      "6\n",
      "8\n",
      "10\n"
     ]
    }
   ],
   "source": [
    "list = [1,2,3,4,5,6,7,8,9]\n",
    "\n",
    "i = 1"
   ]
  },
  {
   "cell_type": "code",
   "execution_count": null,
   "id": "dd423858",
   "metadata": {},
   "outputs": [],
   "source": []
  },
  {
   "cell_type": "code",
   "execution_count": 2,
   "id": "53693e29",
   "metadata": {},
   "outputs": [
    {
     "name": "stdout",
     "output_type": "stream",
     "text": [
      "1\n",
      "2\n",
      "3\n",
      "4\n",
      "5\n"
     ]
    }
   ],
   "source": [
    "i = 1\n",
    "while i < 6:\n",
    "    print(i)\n",
    "    i += 1"
   ]
  },
  {
   "cell_type": "code",
   "execution_count": 4,
   "id": "37f95055",
   "metadata": {},
   "outputs": [
    {
     "name": "stdout",
     "output_type": "stream",
     "text": [
      "Value of i : 6\n"
     ]
    }
   ],
   "source": [
    "a = 'python'\n",
    "i = 0\n",
    "  \n",
    "while i < len(a): \n",
    "    i += 1\n",
    "    pass\n",
    "    \n",
    "print('Value of i :', i) "
   ]
  },
  {
   "cell_type": "code",
   "execution_count": 6,
   "id": "ed11f570",
   "metadata": {},
   "outputs": [
    {
     "name": "stdout",
     "output_type": "stream",
     "text": [
      "apple\n",
      "banana\n",
      "cherry\n"
     ]
    }
   ],
   "source": [
    "thislist = [\"apple\", \"banana\", \"cherry\"]\n",
    "i = 0\n",
    "while i < len(thislist):\n",
    "    print(thislist[i])\n",
    "    i = i + 1"
   ]
  },
  {
   "cell_type": "markdown",
   "id": "fa990c33",
   "metadata": {},
   "source": [
    "# sets "
   ]
  },
  {
   "cell_type": "markdown",
   "id": "55568852",
   "metadata": {},
   "source": [
    "A set is a collection which is unordered, unchangeable*, and unindexed."
   ]
  },
  {
   "cell_type": "markdown",
   "id": "0209dd7e",
   "metadata": {},
   "source": [
    "# Unordered\n",
    "Unordered means that the items in a set do not have a defined order.\n",
    "\n",
    "Set items can appear in a different order every time you use them, and cannot be referred to by index or key."
   ]
  },
  {
   "cell_type": "markdown",
   "id": "7028b7df",
   "metadata": {},
   "source": [
    "# Unchangeable\n",
    "Set items are unchangeable, meaning that we cannot change the items after the set has been created.\n",
    "\n",
    "Once a set is created, you cannot change its items, but you can remove items and add new items."
   ]
  },
  {
   "cell_type": "markdown",
   "id": "7adbdc5b",
   "metadata": {},
   "source": [
    "# Duplicates Not Allowed\n",
    "Sets cannot have two items with the same value."
   ]
  },
  {
   "cell_type": "code",
   "execution_count": 17,
   "id": "6c47c69c",
   "metadata": {},
   "outputs": [],
   "source": [
    "my_set = {'apple','banana','cherry'}"
   ]
  },
  {
   "cell_type": "code",
   "execution_count": 12,
   "id": "01a376c6",
   "metadata": {},
   "outputs": [
    {
     "data": {
      "text/plain": [
       "set"
      ]
     },
     "execution_count": 12,
     "metadata": {},
     "output_type": "execute_result"
    }
   ],
   "source": [
    "type(my_set)"
   ]
  },
  {
   "cell_type": "code",
   "execution_count": 13,
   "id": "c59b1a1e",
   "metadata": {},
   "outputs": [
    {
     "ename": "TypeError",
     "evalue": "'set' object is not subscriptable",
     "output_type": "error",
     "traceback": [
      "\u001b[1;31m---------------------------------------------------------------------------\u001b[0m",
      "\u001b[1;31mTypeError\u001b[0m                                 Traceback (most recent call last)",
      "\u001b[1;32m<ipython-input-13-d950d031f168>\u001b[0m in \u001b[0;36m<module>\u001b[1;34m\u001b[0m\n\u001b[1;32m----> 1\u001b[1;33m \u001b[0mmy_set\u001b[0m \u001b[1;33m[\u001b[0m\u001b[1;36m1\u001b[0m\u001b[1;33m]\u001b[0m\u001b[1;33m\u001b[0m\u001b[1;33m\u001b[0m\u001b[0m\n\u001b[0m",
      "\u001b[1;31mTypeError\u001b[0m: 'set' object is not subscriptable"
     ]
    }
   ],
   "source": [
    "my_set [1]"
   ]
  },
  {
   "cell_type": "code",
   "execution_count": 15,
   "id": "a0beb318",
   "metadata": {},
   "outputs": [
    {
     "data": {
      "text/plain": [
       "'banana'"
      ]
     },
     "execution_count": 15,
     "metadata": {},
     "output_type": "execute_result"
    }
   ],
   "source": [
    "# list is indexed but set is not indexed\n",
    "\n",
    "my_set = ['apple','banana','cherry']\n",
    "\n",
    "my_set[1]"
   ]
  },
  {
   "cell_type": "code",
   "execution_count": 18,
   "id": "3fbf9830",
   "metadata": {},
   "outputs": [
    {
     "data": {
      "text/plain": [
       "{'apple', 'banana', 'cherry'}"
      ]
     },
     "execution_count": 18,
     "metadata": {},
     "output_type": "execute_result"
    }
   ],
   "source": [
    "my_set"
   ]
  },
  {
   "cell_type": "code",
   "execution_count": 37,
   "id": "f9f643a9",
   "metadata": {},
   "outputs": [
    {
     "name": "stdout",
     "output_type": "stream",
     "text": [
      "{'banana', 'apple', 'cherry'}\n"
     ]
    }
   ],
   "source": [
    "thisset = {\"apple\", \"banana\", \"cherry\", \"apple\"}\n",
    "\n",
    " # duplicate will be considered as one element\n",
    "print(thisset)"
   ]
  },
  {
   "cell_type": "code",
   "execution_count": 21,
   "id": "525d97a4",
   "metadata": {},
   "outputs": [],
   "source": [
    "this_set = {1,2,3,5,6,2,3,4,5,7}"
   ]
  },
  {
   "cell_type": "code",
   "execution_count": 22,
   "id": "80cf8b5f",
   "metadata": {},
   "outputs": [
    {
     "name": "stdout",
     "output_type": "stream",
     "text": [
      "{1, 2, 3, 4, 5, 6, 7}\n"
     ]
    }
   ],
   "source": [
    "print(this_set)"
   ]
  },
  {
   "cell_type": "markdown",
   "id": "27b6adc8",
   "metadata": {},
   "source": [
    "# Set Items - Data Types\n",
    "Set items can be of any data type:"
   ]
  },
  {
   "cell_type": "code",
   "execution_count": 25,
   "id": "72b912bb",
   "metadata": {},
   "outputs": [],
   "source": [
    "set_num ={1,2,3,4,5}\n",
    "set_items ={1,'apple',True}"
   ]
  },
  {
   "cell_type": "code",
   "execution_count": 38,
   "id": "579c5abf",
   "metadata": {},
   "outputs": [],
   "source": [
    "# both tuple and set are unchanged but in set you can add or delete\n"
   ]
  },
  {
   "cell_type": "code",
   "execution_count": 26,
   "id": "493ab40a",
   "metadata": {},
   "outputs": [],
   "source": [
    "tup =(1,2,3,4)"
   ]
  },
  {
   "cell_type": "code",
   "execution_count": 27,
   "id": "6ce888a2",
   "metadata": {},
   "outputs": [
    {
     "ename": "TypeError",
     "evalue": "'tuple' object does not support item assignment",
     "output_type": "error",
     "traceback": [
      "\u001b[1;31m---------------------------------------------------------------------------\u001b[0m",
      "\u001b[1;31mTypeError\u001b[0m                                 Traceback (most recent call last)",
      "\u001b[1;32m<ipython-input-27-5e709d981b6a>\u001b[0m in \u001b[0;36m<module>\u001b[1;34m\u001b[0m\n\u001b[1;32m----> 1\u001b[1;33m \u001b[0mtup\u001b[0m\u001b[1;33m[\u001b[0m\u001b[1;36m0\u001b[0m\u001b[1;33m]\u001b[0m\u001b[1;33m=\u001b[0m \u001b[1;36m5\u001b[0m\u001b[1;33m\u001b[0m\u001b[1;33m\u001b[0m\u001b[0m\n\u001b[0m",
      "\u001b[1;31mTypeError\u001b[0m: 'tuple' object does not support item assignment"
     ]
    }
   ],
   "source": [
    "tup[0]= 5"
   ]
  },
  {
   "cell_type": "markdown",
   "id": "ba9b980c",
   "metadata": {},
   "source": [
    "# Two methods for adding the elements\n",
    "\n",
    "1. add()\n",
    "2. update()"
   ]
  },
  {
   "cell_type": "code",
   "execution_count": 42,
   "id": "fdfb41b9",
   "metadata": {},
   "outputs": [],
   "source": [
    "set_change ={1,2,3,4}\n",
    "\n",
    "set_change.add(6)"
   ]
  },
  {
   "cell_type": "code",
   "execution_count": 43,
   "id": "47c24c8f",
   "metadata": {},
   "outputs": [
    {
     "data": {
      "text/plain": [
       "{1, 2, 3, 4, 6}"
      ]
     },
     "execution_count": 43,
     "metadata": {},
     "output_type": "execute_result"
    }
   ],
   "source": [
    "set_change # remember set is not indexed, doesnt matter where ever you add this"
   ]
  },
  {
   "cell_type": "code",
   "execution_count": 47,
   "id": "200064f4",
   "metadata": {},
   "outputs": [],
   "source": [
    "set_str = {'a','b','c'}\n",
    "set_str.add('d')"
   ]
  },
  {
   "cell_type": "code",
   "execution_count": 48,
   "id": "447ffa1b",
   "metadata": {},
   "outputs": [
    {
     "data": {
      "text/plain": [
       "{'a', 'b', 'c', 'd'}"
      ]
     },
     "execution_count": 48,
     "metadata": {},
     "output_type": "execute_result"
    }
   ],
   "source": [
    "set_str"
   ]
  },
  {
   "cell_type": "code",
   "execution_count": 53,
   "id": "c1daa035",
   "metadata": {},
   "outputs": [
    {
     "ename": "TypeError",
     "evalue": "unhashable type: 'set'",
     "output_type": "error",
     "traceback": [
      "\u001b[1;31m---------------------------------------------------------------------------\u001b[0m",
      "\u001b[1;31mTypeError\u001b[0m                                 Traceback (most recent call last)",
      "\u001b[1;32m<ipython-input-53-abfe3250532f>\u001b[0m in \u001b[0;36m<module>\u001b[1;34m\u001b[0m\n\u001b[0;32m      2\u001b[0m \u001b[0mset_add\u001b[0m \u001b[1;33m=\u001b[0m \u001b[1;33m{\u001b[0m\u001b[1;34m\"d\"\u001b[0m\u001b[1;33m,\u001b[0m\u001b[1;34m'e'\u001b[0m\u001b[1;33m}\u001b[0m\u001b[1;33m\u001b[0m\u001b[1;33m\u001b[0m\u001b[0m\n\u001b[0;32m      3\u001b[0m \u001b[1;33m\u001b[0m\u001b[0m\n\u001b[1;32m----> 4\u001b[1;33m \u001b[0mset_str\u001b[0m\u001b[1;33m.\u001b[0m\u001b[0madd\u001b[0m\u001b[1;33m(\u001b[0m\u001b[0mset_add\u001b[0m\u001b[1;33m)\u001b[0m\u001b[1;33m\u001b[0m\u001b[1;33m\u001b[0m\u001b[0m\n\u001b[0m\u001b[0;32m      5\u001b[0m \u001b[1;33m\u001b[0m\u001b[0m\n\u001b[0;32m      6\u001b[0m \u001b[1;31m# if you want to combine two sets then use update method\u001b[0m\u001b[1;33m\u001b[0m\u001b[1;33m\u001b[0m\u001b[1;33m\u001b[0m\u001b[0m\n",
      "\u001b[1;31mTypeError\u001b[0m: unhashable type: 'set'"
     ]
    }
   ],
   "source": [
    "set_str = {'a','b','c'}\n",
    "set_add = {\"d\",'e'}\n",
    "\n",
    "set_str.add(set_add)\n",
    "\n",
    "# if you want to combine two sets then use update method"
   ]
  },
  {
   "cell_type": "code",
   "execution_count": 46,
   "id": "13017676",
   "metadata": {},
   "outputs": [
    {
     "name": "stdout",
     "output_type": "stream",
     "text": [
      "{'pineapple', 'apple', 'papaya', 'mango', 'banana', 'cherry'}\n"
     ]
    }
   ],
   "source": [
    "thisset = {\"apple\", \"banana\", \"cherry\"}\n",
    "tropical = {\"pineapple\", \"mango\", \"papaya\"}\n",
    "\n",
    "thisset.update(tropical)\n",
    "\n",
    "print(thisset)"
   ]
  },
  {
   "cell_type": "markdown",
   "id": "c7c146df",
   "metadata": {},
   "source": [
    "# TWo methods for remving items in sets\n",
    "    \n",
    "1. discard (If you try to discard an unknown element error will not be thrown)\n",
    "2. Remove (if u try to discard an unknown element error will be thrown)"
   ]
  },
  {
   "cell_type": "code",
   "execution_count": 34,
   "id": "6bb09356",
   "metadata": {},
   "outputs": [
    {
     "name": "stdout",
     "output_type": "stream",
     "text": [
      "{'banana', 'apple', 'cherry'}\n"
     ]
    }
   ],
   "source": [
    "thisset = {\"apple\", \"banana\", \"cherry\"}\n",
    "\n",
    "thisset.discard(\"blackcurrent\")\n",
    "\n",
    "print(thisset)"
   ]
  },
  {
   "cell_type": "code",
   "execution_count": 35,
   "id": "b39b4fad",
   "metadata": {},
   "outputs": [
    {
     "ename": "KeyError",
     "evalue": "'blackcurrent'",
     "output_type": "error",
     "traceback": [
      "\u001b[1;31m---------------------------------------------------------------------------\u001b[0m",
      "\u001b[1;31mKeyError\u001b[0m                                  Traceback (most recent call last)",
      "\u001b[1;32m<ipython-input-35-c783c9beee33>\u001b[0m in \u001b[0;36m<module>\u001b[1;34m\u001b[0m\n\u001b[0;32m      1\u001b[0m \u001b[0mthisset\u001b[0m \u001b[1;33m=\u001b[0m \u001b[1;33m{\u001b[0m\u001b[1;34m\"apple\"\u001b[0m\u001b[1;33m,\u001b[0m \u001b[1;34m\"banana\"\u001b[0m\u001b[1;33m,\u001b[0m \u001b[1;34m\"cherry\"\u001b[0m\u001b[1;33m}\u001b[0m\u001b[1;33m\u001b[0m\u001b[1;33m\u001b[0m\u001b[0m\n\u001b[0;32m      2\u001b[0m \u001b[1;33m\u001b[0m\u001b[0m\n\u001b[1;32m----> 3\u001b[1;33m \u001b[0mthisset\u001b[0m\u001b[1;33m.\u001b[0m\u001b[0mremove\u001b[0m\u001b[1;33m(\u001b[0m\u001b[1;34m\"blackcurrent\"\u001b[0m\u001b[1;33m)\u001b[0m\u001b[1;33m\u001b[0m\u001b[1;33m\u001b[0m\u001b[0m\n\u001b[0m\u001b[0;32m      4\u001b[0m \u001b[1;33m\u001b[0m\u001b[0m\n\u001b[0;32m      5\u001b[0m \u001b[0mprint\u001b[0m\u001b[1;33m(\u001b[0m\u001b[0mthisset\u001b[0m\u001b[1;33m)\u001b[0m\u001b[1;33m\u001b[0m\u001b[1;33m\u001b[0m\u001b[0m\n",
      "\u001b[1;31mKeyError\u001b[0m: 'blackcurrent'"
     ]
    }
   ],
   "source": [
    "thisset = {\"apple\", \"banana\", \"cherry\"}\n",
    "\n",
    "thisset.remove(\"blackcurrent\")\n",
    "\n",
    "print(thisset)"
   ]
  },
  {
   "cell_type": "markdown",
   "id": "187a49e0",
   "metadata": {},
   "source": [
    "# Joining of sets"
   ]
  },
  {
   "cell_type": "code",
   "execution_count": 55,
   "id": "93161758",
   "metadata": {},
   "outputs": [
    {
     "name": "stdout",
     "output_type": "stream",
     "text": [
      "{'d', 1, 'a', 2, 3, 'John', 'b', 'apple', 'bananas', 'c', 'Elena', 'cherry'}\n"
     ]
    }
   ],
   "source": [
    "set1 = {\"a\", \"b\", \"c\",'d'}\n",
    "set2 = {1, 2, 3}\n",
    "set3 = {\"John\", \"Elena\",\"d\"}\n",
    "set4 = {\"apple\", \"bananas\", \"cherry\"}\n",
    "\n",
    "myset = set1 | set2 | set3 |set4\n",
    "print(myset)"
   ]
  },
  {
   "cell_type": "markdown",
   "id": "b9c226fa",
   "metadata": {},
   "source": [
    "# Dictionaries"
   ]
  },
  {
   "cell_type": "markdown",
   "id": "05932b6e",
   "metadata": {},
   "source": [
    "Dictionary\n",
    "Dictionaries are used to store data values in key:value pairs.\n",
    "\n",
    "A dictionary is a collection which is ordered*, changeable and do not allow duplicates.\n",
    "\n",
    "As of Python version 3.7, dictionaries are ordered. In Python 3.6 and earlier, dictionaries are unordered."
   ]
  },
  {
   "cell_type": "code",
   "execution_count": 57,
   "id": "64e351c5",
   "metadata": {},
   "outputs": [],
   "source": [
    "mydict ={ \"name\": \"vanthana\",\n",
    "           'age':36,\n",
    "            \"year\": 1988}"
   ]
  },
  {
   "cell_type": "code",
   "execution_count": 58,
   "id": "a8c991e3",
   "metadata": {},
   "outputs": [
    {
     "data": {
      "text/plain": [
       "{'name': 'vanthana', 'age': 36, 'year': 1988}"
      ]
     },
     "execution_count": 58,
     "metadata": {},
     "output_type": "execute_result"
    }
   ],
   "source": [
    "mydict"
   ]
  },
  {
   "cell_type": "code",
   "execution_count": 59,
   "id": "73723e7c",
   "metadata": {},
   "outputs": [
    {
     "data": {
      "text/plain": [
       "dict"
      ]
     },
     "execution_count": 59,
     "metadata": {},
     "output_type": "execute_result"
    }
   ],
   "source": [
    "type(mydict)"
   ]
  },
  {
   "cell_type": "markdown",
   "id": "c32b4294",
   "metadata": {},
   "source": [
    "Duplicate not allowed"
   ]
  },
  {
   "cell_type": "code",
   "execution_count": 61,
   "id": "28c7b657",
   "metadata": {},
   "outputs": [],
   "source": [
    "mydict ={ \"name\": \"vanthana\",\n",
    "           'age':36,\n",
    "            \"year\": 1988,\n",
    "            \"year\": 1989}"
   ]
  },
  {
   "cell_type": "code",
   "execution_count": 62,
   "id": "669431b1",
   "metadata": {},
   "outputs": [
    {
     "data": {
      "text/plain": [
       "{'name': 'vanthana', 'age': 36, 'year': 1989}"
      ]
     },
     "execution_count": 62,
     "metadata": {},
     "output_type": "execute_result"
    }
   ],
   "source": [
    "mydict"
   ]
  },
  {
   "cell_type": "code",
   "execution_count": 64,
   "id": "e4ce9ff9",
   "metadata": {},
   "outputs": [
    {
     "data": {
      "text/plain": [
       "3"
      ]
     },
     "execution_count": 64,
     "metadata": {},
     "output_type": "execute_result"
    }
   ],
   "source": [
    "len(mydict)"
   ]
  },
  {
   "cell_type": "code",
   "execution_count": 66,
   "id": "afa90f6c",
   "metadata": {},
   "outputs": [],
   "source": [
    "dict_1 = {\"name\":\"vanthana\",\n",
    "           'age':36,\n",
    "            \"year\": 1988,\n",
    "            \"edu\": [\"B.tech\",\"MBA\"]}"
   ]
  },
  {
   "cell_type": "code",
   "execution_count": 67,
   "id": "79233eac",
   "metadata": {},
   "outputs": [
    {
     "data": {
      "text/plain": [
       "{'name': 'vanthana', 'age': 36, 'year': 1988, 'edu': ['B.tech', 'MBA']}"
      ]
     },
     "execution_count": 67,
     "metadata": {},
     "output_type": "execute_result"
    }
   ],
   "source": [
    "dict_1"
   ]
  },
  {
   "cell_type": "markdown",
   "id": "cbefdf4c",
   "metadata": {},
   "source": [
    "# Accessing Items"
   ]
  },
  {
   "cell_type": "code",
   "execution_count": 68,
   "id": "9fa0a0e9",
   "metadata": {},
   "outputs": [
    {
     "name": "stdout",
     "output_type": "stream",
     "text": [
      "vanthana\n"
     ]
    }
   ],
   "source": [
    "dict_1 = {\"name\":\"vanthana\",\n",
    "           'age':36,\n",
    "            \"year\": 1988,\n",
    "            \"edu\": [\"B.tech\",\"MBA\"]}\n",
    "\n",
    "print(dict_1[\"name\"])"
   ]
  },
  {
   "cell_type": "code",
   "execution_count": 75,
   "id": "c0fcd5dc",
   "metadata": {},
   "outputs": [],
   "source": [
    "dict_1 = {\"name\":\"vanthana\",\n",
    "           'age':36,\n",
    "            \"year\": 1988,\n",
    "            \"edu\": [\"B.tech\",\"MBA\"]}\n",
    "\n",
    "edu = dict_1['edu']"
   ]
  },
  {
   "cell_type": "code",
   "execution_count": 76,
   "id": "b9020ca4",
   "metadata": {},
   "outputs": [
    {
     "data": {
      "text/plain": [
       "['B.tech', 'MBA']"
      ]
     },
     "execution_count": 76,
     "metadata": {},
     "output_type": "execute_result"
    }
   ],
   "source": [
    "edu"
   ]
  },
  {
   "cell_type": "code",
   "execution_count": 77,
   "id": "d4f21f22",
   "metadata": {},
   "outputs": [
    {
     "name": "stdout",
     "output_type": "stream",
     "text": [
      "B.tech\n",
      "MBA\n"
     ]
    }
   ],
   "source": [
    "dict_1 = {\"name\":\"vanthana\",\n",
    "           'age':36,\n",
    "            \"year\": 1988,\n",
    "            \"edu\": [\"B.tech\",\"MBA\"]}\n",
    "\n",
    "for x in  dict_1['edu']:\n",
    "    print(x)"
   ]
  },
  {
   "cell_type": "code",
   "execution_count": 79,
   "id": "14fe130a",
   "metadata": {},
   "outputs": [
    {
     "name": "stdout",
     "output_type": "stream",
     "text": [
      "dict_keys(['name', 'age', 'year', 'edu'])\n"
     ]
    }
   ],
   "source": [
    "dict_1 = {\"name\":\"vanthana\",\n",
    "           'age':36,\n",
    "            \"year\": 1988,\n",
    "            \"edu\": [\"B.tech\",\"MBA\"]}\n",
    "\n",
    "print(dict_1.keys())"
   ]
  },
  {
   "cell_type": "code",
   "execution_count": 80,
   "id": "22d6775e",
   "metadata": {},
   "outputs": [
    {
     "name": "stdout",
     "output_type": "stream",
     "text": [
      "dict_items([('name', 'vanthana'), ('age', 36), ('year', 1988), ('edu', ['B.tech', 'MBA'])])\n"
     ]
    }
   ],
   "source": [
    "dict_1 = {\"name\":\"vanthana\",\n",
    "           'age':36,\n",
    "            \"year\": 1988,\n",
    "            \"edu\": [\"B.tech\",\"MBA\"]}\n",
    "\n",
    "print(dict_1.items())"
   ]
  },
  {
   "cell_type": "code",
   "execution_count": 81,
   "id": "ff62b619",
   "metadata": {},
   "outputs": [
    {
     "name": "stdout",
     "output_type": "stream",
     "text": [
      "dict_values(['vanthana', 36, 1988, ['B.tech', 'MBA']])\n"
     ]
    }
   ],
   "source": [
    "dict_1 = {\"name\":\"vanthana\",\n",
    "           'age':36,\n",
    "            \"year\": 1988,\n",
    "            \"edu\": [\"B.tech\",\"MBA\"]}\n",
    "\n",
    "print(dict_1.values())"
   ]
  },
  {
   "cell_type": "code",
   "execution_count": 84,
   "id": "7de6b057",
   "metadata": {},
   "outputs": [
    {
     "name": "stdout",
     "output_type": "stream",
     "text": [
      "name\n",
      "age\n",
      "year\n",
      "edu\n"
     ]
    }
   ],
   "source": [
    "for x in dict_1.keys():\n",
    "    print (x)"
   ]
  },
  {
   "cell_type": "code",
   "execution_count": 85,
   "id": "24155c5f",
   "metadata": {},
   "outputs": [
    {
     "name": "stdout",
     "output_type": "stream",
     "text": [
      "vanthana\n",
      "36\n",
      "1988\n",
      "['B.tech', 'MBA']\n"
     ]
    }
   ],
   "source": [
    "for x in dict_1.values():\n",
    "    print (x)"
   ]
  },
  {
   "cell_type": "code",
   "execution_count": 87,
   "id": "cae0652c",
   "metadata": {},
   "outputs": [
    {
     "name": "stdout",
     "output_type": "stream",
     "text": [
      "name vanthana\n",
      "age 36\n",
      "year 1988\n",
      "edu ['B.tech', 'MBA']\n"
     ]
    }
   ],
   "source": [
    "for x,y in dict_1.items():\n",
    "    print (x,y)"
   ]
  },
  {
   "cell_type": "code",
   "execution_count": 1,
   "id": "5d341b86",
   "metadata": {},
   "outputs": [],
   "source": [
    "dict_2 = {\"vanthana\": 35,\n",
    "         \"Dinesh\":37,\n",
    "         \"Akshara\":5,\n",
    "         \"Aditya\":8}"
   ]
  },
  {
   "cell_type": "code",
   "execution_count": 10,
   "id": "f07e65e5",
   "metadata": {},
   "outputs": [],
   "source": [
    "name = []\n",
    "age = []\n",
    "\n",
    "for x,y in dict_2.items():\n",
    "    x = \"name_\"+ x\n",
    "    y = \"age_\"+ str(y)\n",
    "    name.append(x)\n",
    "    age.append(y)\n",
    "    \n",
    "    "
   ]
  },
  {
   "cell_type": "code",
   "execution_count": 6,
   "id": "1424c4ad",
   "metadata": {},
   "outputs": [
    {
     "data": {
      "text/plain": [
       "['name_vanthana', 'name_Dinesh', 'name_Akshara', 'name_Aditya']"
      ]
     },
     "execution_count": 6,
     "metadata": {},
     "output_type": "execute_result"
    }
   ],
   "source": [
    "name"
   ]
  },
  {
   "cell_type": "markdown",
   "id": "ef5825c9",
   "metadata": {},
   "source": [
    "# ****** Important to know ######   List_comprehension"
   ]
  },
  {
   "cell_type": "code",
   "execution_count": 20,
   "id": "517794aa",
   "metadata": {},
   "outputs": [],
   "source": [
    "list =[1,2,3,4,5]\n",
    "add_list = []      \n",
    "for x in list:\n",
    "    x = x+1\n",
    "    add_list.append(x)\n",
    "       "
   ]
  },
  {
   "cell_type": "code",
   "execution_count": 21,
   "id": "a9991559",
   "metadata": {},
   "outputs": [
    {
     "data": {
      "text/plain": [
       "[2, 3, 4, 5, 6]"
      ]
     },
     "execution_count": 21,
     "metadata": {},
     "output_type": "execute_result"
    }
   ],
   "source": [
    "add_list"
   ]
  },
  {
   "cell_type": "code",
   "execution_count": 11,
   "id": "814c4e17",
   "metadata": {},
   "outputs": [],
   "source": [
    "list =[1,2,3,4,5]\n",
    "\n",
    "add_list = [x+1 for x in list]"
   ]
  },
  {
   "cell_type": "code",
   "execution_count": 12,
   "id": "01068452",
   "metadata": {},
   "outputs": [
    {
     "data": {
      "text/plain": [
       "[2, 3, 4, 5, 6]"
      ]
     },
     "execution_count": 12,
     "metadata": {},
     "output_type": "execute_result"
    }
   ],
   "source": [
    "add_list"
   ]
  },
  {
   "cell_type": "code",
   "execution_count": null,
   "id": "078c92ea",
   "metadata": {},
   "outputs": [],
   "source": []
  },
  {
   "cell_type": "code",
   "execution_count": null,
   "id": "3c7bc319",
   "metadata": {},
   "outputs": [],
   "source": []
  },
  {
   "cell_type": "code",
   "execution_count": null,
   "id": "1b5e7ca7",
   "metadata": {},
   "outputs": [],
   "source": []
  },
  {
   "cell_type": "code",
   "execution_count": 24,
   "id": "42e82ca6",
   "metadata": {},
   "outputs": [],
   "source": [
    "list_1 = [1,2,3,4,5,6]\n",
    "\n",
    "list_2 =[]\n",
    "for x in list_1:\n",
    "    x = x+1\n",
    "    list_2.append(x)\n",
    "    "
   ]
  },
  {
   "cell_type": "code",
   "execution_count": 25,
   "id": "5551c30a",
   "metadata": {},
   "outputs": [
    {
     "data": {
      "text/plain": [
       "[2, 3, 4, 5, 6, 7]"
      ]
     },
     "execution_count": 25,
     "metadata": {},
     "output_type": "execute_result"
    }
   ],
   "source": [
    "list_2"
   ]
  },
  {
   "cell_type": "code",
   "execution_count": null,
   "id": "546bb118",
   "metadata": {},
   "outputs": [],
   "source": [
    "list_1 = [1,2,3,4,5,6]\n",
    "\n",
    "sum_x = 0 #(1+2+3...)\n",
    "\n",
    "for x in list_1:\n",
    "    sum_x = x+sum_x\n",
    "    \n",
    "    \n",
    "\n"
   ]
  },
  {
   "cell_type": "code",
   "execution_count": 27,
   "id": "b8415889",
   "metadata": {},
   "outputs": [],
   "source": [
    "list_list = [[1,2,4],[4,5,6],[4,5,6]]\n",
    "\n",
    "\n"
   ]
  },
  {
   "cell_type": "code",
   "execution_count": 29,
   "id": "6f94045a",
   "metadata": {},
   "outputs": [
    {
     "name": "stdout",
     "output_type": "stream",
     "text": [
      "1\n",
      "2\n",
      "4\n",
      "4\n",
      "5\n",
      "6\n",
      "4\n",
      "5\n",
      "6\n"
     ]
    }
   ],
   "source": []
  },
  {
   "cell_type": "code",
   "execution_count": null,
   "id": "3fc23f7c",
   "metadata": {},
   "outputs": [],
   "source": []
  }
 ],
 "metadata": {
  "kernelspec": {
   "display_name": "Python 3 (ipykernel)",
   "language": "python",
   "name": "python3"
  },
  "language_info": {
   "codemirror_mode": {
    "name": "ipython",
    "version": 3
   },
   "file_extension": ".py",
   "mimetype": "text/x-python",
   "name": "python",
   "nbconvert_exporter": "python",
   "pygments_lexer": "ipython3",
   "version": "3.11.7"
  }
 },
 "nbformat": 4,
 "nbformat_minor": 5
}
