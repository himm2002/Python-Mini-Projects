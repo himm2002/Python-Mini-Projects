{
 "cells": [
  {
   "cell_type": "markdown",
   "id": "bd5255b5-ea21-4f90-ab11-84f74fa4451a",
   "metadata": {},
   "source": [
    "Pandas Explaination--- Library which through we can do data manipulaion, data inspection, data cleaning, visualization,summary,\n",
    "data pivot table and so on"
   ]
  },
  {
   "cell_type": "code",
   "execution_count": 1,
   "id": "70b30dee-964a-4a7b-9c3d-20eda8ebdaf6",
   "metadata": {},
   "outputs": [],
   "source": [
    "import pandas as pd"
   ]
  },
  {
   "cell_type": "code",
   "execution_count": 6,
   "id": "c64b9ab7-e8c8-4084-9fe2-3e791c611193",
   "metadata": {},
   "outputs": [
    {
     "name": "stdout",
     "output_type": "stream",
     "text": [
      "    name  age  salary\n",
      "0   John   30   40000\n",
      "1  Peter   31   50000\n",
      "2   Lisa   34   25000\n"
     ]
    }
   ],
   "source": [
    "employees_data = {\"name\":[\"John\",\"Peter\",\"Lisa\",],\n",
    "                 \"age\":[30,31,34],\n",
    "                 \"salary\":[40000,50000,25000]} #this is dictionary data type with values in list format\n",
    "dframe = pd.DataFrame(employees_data) #remember one thing in this type of data all the values list elements should be equal length\n",
    "print(dframe)"
   ]
  },
  {
   "cell_type": "code",
   "execution_count": null,
   "id": "d0673534-5754-499a-bea4-bd70f213caa3",
   "metadata": {},
   "outputs": [],
   "source": []
  }
 ],
 "metadata": {
  "kernelspec": {
   "display_name": "Python 3 (ipykernel)",
   "language": "python",
   "name": "python3"
  },
  "language_info": {
   "codemirror_mode": {
    "name": "ipython",
    "version": 3
   },
   "file_extension": ".py",
   "mimetype": "text/x-python",
   "name": "python",
   "nbconvert_exporter": "python",
   "pygments_lexer": "ipython3",
   "version": "3.11.7"
  }
 },
 "nbformat": 4,
 "nbformat_minor": 5
}
